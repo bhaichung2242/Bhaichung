{
 "cells": [
  {
   "cell_type": "markdown",
   "metadata": {},
   "source": [
    "# Classes"
   ]
  },
  {
   "cell_type": "markdown",
   "metadata": {},
   "source": [
    "1. Rectangle Class:Define a class Rectangle with:\n",
    "○ Two attributes: length and width.\n",
    "○ A method area() to calculate the area.\n",
    "○ A method perimeter() to calculate the perimeter.\n"
   ]
  },
  {
   "cell_type": "code",
   "execution_count": 1,
   "metadata": {},
   "outputs": [
    {
     "name": "stdout",
     "output_type": "stream",
     "text": [
      "Area: 4.0\n",
      "Perimeter: 8.0\n"
     ]
    }
   ],
   "source": [
    "class Rectangle:\n",
    "    def __init__(self , length , width):\n",
    "        self.length = length\n",
    "        self.width = width\n",
    "    \n",
    "    def area(self):\n",
    "        return self.length * self.width\n",
    "    \n",
    "    def perimeter(self):\n",
    "        return 2 * (self.length + self.width)\n",
    "    \n",
    "\n",
    "try:\n",
    "    length =  float(input(\"enter length of rectangle\"))\n",
    "    width = float(input(\"enter width of rectangle\"))\n",
    "\n",
    "    rect= Rectangle(length, width)\n",
    "\n",
    "\n",
    "    print(f\"Area: {rect.area()}\")\n",
    "    print(f\"Perimeter: {rect.perimeter()}\")  \n",
    "\n",
    "except ValueError:\n",
    "    print(\"Please enter valid numeric values of length and width.\")  "
   ]
  },
  {
   "cell_type": "code",
   "execution_count": 20,
   "metadata": {},
   "outputs": [
    {
     "name": "stdout",
     "output_type": "stream",
     "text": [
      "Area: 36\n",
      "Perimeter: 24\n"
     ]
    }
   ],
   "source": [
    "class Rectangle:\n",
    "    def __init__(self , length , width):\n",
    "        self.length = length\n",
    "        self.width = width\n",
    "    \n",
    "    def area(self):\n",
    "        return self.length * self.width\n",
    "    \n",
    "    def perimeter(self):\n",
    "        return 2 * (self.length + self.width)\n",
    "    \n",
    "\n",
    "rect = Rectangle(6 , 6)\n",
    "\n",
    "print(f\"Area: {rect.area()}\")\n",
    "print(f\"Perimeter: {rect.perimeter()}\")    \n"
   ]
  },
  {
   "cell_type": "markdown",
   "metadata": {},
   "source": [
    "\n",
    "2. Student Class: Create a class Student with:\n",
    "○ Attributes: name, roll_number, and marks.\n",
    "○ A method display_details() to print the student's details.\n",
    "○ A method is_passed() that returns True if marks ≥ 40, else\n",
    "False.\n"
   ]
  },
  {
   "cell_type": "code",
   "execution_count": 25,
   "metadata": {},
   "outputs": [
    {
     "name": "stdout",
     "output_type": "stream",
     "text": [
      "Name: Bhaichung\n",
      "Roll Number: 1\n",
      "Mark: 99\n",
      "Passed: True\n",
      "\n",
      "Name: Palden\n",
      "Roll Number: 2\n",
      "Mark: 8\n",
      "Passed: False\n"
     ]
    }
   ],
   "source": [
    "class Student:\n",
    "    def __init__(self , name , roll_number , mark):\n",
    "        self.name = name\n",
    "        self.roll_number = roll_number\n",
    "        self.mark = mark\n",
    "\n",
    "    def display_detials(self):\n",
    "        print(f\"Name: {self.name}\\nRoll Number: {self.roll_number}\\nMark: {self.mark}\")\n",
    "\n",
    "    def is_passed(self):\n",
    "        return self.mark >= 40\n",
    "\n",
    "std1 = Student(\"Bhaichung\" , 1 , 99)\n",
    "std1.display_detials()\n",
    "print(\"Passed:\",std1.is_passed())\n",
    "\n",
    "print(\"\")\n",
    "\n",
    "std2 = Student(\"Palden\" , 2 , 8)\n",
    "std2.display_detials()\n",
    "print(\"Passed:\",std2.is_passed())"
   ]
  },
  {
   "cell_type": "markdown",
   "metadata": {},
   "source": [
    "\n",
    "3. Define a class Circle with:\n",
    "● Attribute: radius.\n",
    "● Methods: area() to calculate the area, circumference() to\n",
    "calculate the circumference.\n"
   ]
  },
  {
   "cell_type": "code",
   "execution_count": 29,
   "metadata": {},
   "outputs": [
    {
     "name": "stdout",
     "output_type": "stream",
     "text": [
      "please enter a valid numeric value of radius.\n"
     ]
    }
   ],
   "source": [
    "import math\n",
    "\n",
    "class circle:\n",
    "    def __init__(self, radius):\n",
    "        self.radius = radius\n",
    "    def area(self):\n",
    "        return math.pi * (self.radius ** 2)\n",
    "    def circumference(self):\n",
    "        return 2 * math.pi * self.radius\n",
    "try:\n",
    "    radius = float(input(\"enter radius of circle:\"))\n",
    "    circle =  circle(radius)\n",
    "    print(f\"area of circle is {circle.area():.2f}\")\n",
    "    print(f\"circumference of are is {circle.circumference():.2f}\")\n",
    "except ValueError:\n",
    "    print(f\"please enter a valid numeric value of radius.\")"
   ]
  },
  {
   "cell_type": "markdown",
   "metadata": {},
   "source": [
    "4. Create a class BankAccount with:\n",
    "● Attributes: account_number, account_holder, balance.\n",
    "● Methods:\n",
    "○ deposit(amount) to add money to the account.\n",
    "○ withdraw(amount) to subtract money (if sufficient\n",
    "balance is available).\n",
    "○ display_balance() to print the current balance."
   ]
  },
  {
   "cell_type": "code",
   "execution_count": 32,
   "metadata": {},
   "outputs": [
    {
     "name": "stdout",
     "output_type": "stream",
     "text": [
      "Deposit Balance:Rs5000, New Balance:Rs15000 \n",
      "Withdraw Balance:Rs3000, New Balance:Rs12000 \n",
      "Current Balance: 12000\n"
     ]
    }
   ],
   "source": [
    "class BankAccount:\n",
    "\n",
    "    def __init__(self, account_number , account_holder , balance):\n",
    "        self.account_number = account_number\n",
    "        self.account_holder = account_holder\n",
    "        self.balance = balance\n",
    "\n",
    "    def deposit(self , amount):\n",
    "        self.balance += amount\n",
    "        print(f\"Deposit Balance:Rs{amount}, New Balance:Rs{self.balance} \")\n",
    "    \n",
    "    def withdraw(self , amount):\n",
    "        if amount > self.balance:\n",
    "            return 'Insufficient Balance.'\n",
    "        else:\n",
    "            self.balance -= amount\n",
    "            print(f\"Withdraw Balance:Rs{amount}, New Balance:Rs{self.balance} \")\n",
    "        \n",
    "    def display_balance(self):\n",
    "        print(f\"Current Balance: {self.balance}\")\n",
    "    \n",
    "\n",
    "account = BankAccount(123456 , \"Bhaichung\" , 10000)\n",
    "account.deposit(5000)\n",
    "account.withdraw(3000)\n",
    "account.display_balance()"
   ]
  },
  {
   "cell_type": "markdown",
   "metadata": {},
   "source": [
    "\n",
    "5. A class Book with:\n",
    "● Attributes: title, author, price.\n",
    "● Methods:\n",
    "○ apply_discount(discount) to reduce the price by a\n",
    "given percentage.\n",
    "○ display_details() to print the book details.\n"
   ]
  },
  {
   "cell_type": "code",
   "execution_count": 37,
   "metadata": {},
   "outputs": [
    {
     "name": "stdout",
     "output_type": "stream",
     "text": [
      "Book Title: karnali blues\n",
      "Book Author: Buddhi sagar\n",
      "Book Price: Rs1342.5\n"
     ]
    }
   ],
   "source": [
    "class Book:\n",
    "    def __init__(self, author , title , price):\n",
    "        self.author = author\n",
    "        self.title = title\n",
    "        self.price = price\n",
    "\n",
    "    def apply_discount(self , discount):\n",
    "        if 0 <= discount <= 100:\n",
    "            self.price -= (discount / 100) * self.price\n",
    "            return self.price\n",
    "        else:\n",
    "            print(\"Invalid Discound percentage. please provide a value between 0 to 100\")\n",
    "\n",
    "    def display_details(self):\n",
    "        print(f\"Book Title: {self.title}\\nBook Author: {self.author}\\nBook Price: Rs{self.price}\") \n",
    "\n",
    "book1 = Book(\"Buddhi sagar\" , \"karnali blues\" , 1500)\n",
    "book1.apply_discount(10.5)\n",
    "book1.display_details()"
   ]
  },
  {
   "cell_type": "markdown",
   "metadata": {},
   "source": [
    "\n",
    "6. Create a class Calculator with:\n",
    "○ A method add(a, b) to add two numbers.\n",
    "○ A method subtract(a, b) to subtract two numbers.\n",
    "○ A method multiply(a, b) to multiply two numbers.\n",
    "○ A method divide(a, b) to divide two numbers (handle division\n",
    "by zero gracefully).\n"
   ]
  },
  {
   "cell_type": "code",
   "execution_count": 40,
   "metadata": {},
   "outputs": [
    {
     "name": "stdout",
     "output_type": "stream",
     "text": [
      "Add: 26\n",
      "Subtrace: 6\n",
      "Multiply: 56\n",
      "Divide: Division by Zero is not allowed\n"
     ]
    }
   ],
   "source": [
    "class Calculator:\n",
    "     \n",
    "    def add(self , a , b):\n",
    "        return a  + b\n",
    "    \n",
    "    def subtract(self , a , b):\n",
    "        return a  - b\n",
    "    \n",
    "    def multiply(self , a , b):\n",
    "        return a  * b\n",
    "    \n",
    "    def divide(self , a , b):\n",
    "        if b != 0:\n",
    "            return a  / b\n",
    "        \n",
    "        return\"Division by Zero is not allowed\"\n",
    "\n",
    "cal = Calculator()\n",
    "print(f\"Add: {cal.add(20 , 6)}\")\n",
    "print(f\"Subtrace: {cal.subtract(40 , 34)}\")\n",
    "print(f\"Multiply: {cal.multiply( 8 , 7)}\")\n",
    "print(f\"Divide: {cal.divide(9 ,0 )}\")"
   ]
  },
  {
   "cell_type": "markdown",
   "metadata": {},
   "source": [
    "7. Write a class Person with:\n",
    "\n",
    "○ Attributes: name, age, gender.\n",
    "○ Method introduce() to print a message like: \"Hello, my name\n",
    "is [name], I am [age] years old, and I am a [gender].\"\n",
    "○ Create a subclass Employee that adds:\n",
    "■ Attribute: job_title.\n",
    "■ Override introduce() to include the job title.\n"
   ]
  },
  {
   "cell_type": "code",
   "execution_count": 42,
   "metadata": {},
   "outputs": [
    {
     "name": "stdout",
     "output_type": "stream",
     "text": [
      "Hello, my name is Bhaichung, I am 23 years old, and I am a Male.\n",
      "------------------------------------------------------------------------------\n",
      "Hello, my name is Palden, I am 21 years old, I am a Male, and I work as Pilote\n"
     ]
    }
   ],
   "source": [
    "class Person:\n",
    "    def __init__(self, name  , age  , gender ):\n",
    "        self.name = name\n",
    "        self.age = age\n",
    "        self.gender = gender\n",
    "\n",
    "    def introduce(self):\n",
    "        print(f\"Hello, my name is {self.name}, I am {self.age} years old, and I am a {self.gender}.\")\n",
    "\n",
    "class Employee(Person):\n",
    "\n",
    "    def __init__(self ,name :str , age  , gender , job_title ):\n",
    "        super().__init__(name , age, gender ) \n",
    "        self.job_title = job_title\n",
    "\n",
    "    def introduce(self):\n",
    "        print(f\"Hello, my name is {self.name}, I am {self.age} years old, I am a {self.gender}, and I work as {self.job_title}\")\n",
    "\n",
    "person1 = Person(\"Bhaichung\" , 23 , \"Male\")\n",
    "person1.introduce()\n",
    "\n",
    "print(\"------------------------------------------------------------------------------\")\n",
    "\n",
    "employee1 = Employee(\"Palden\" , 21 , \"Male\" , \"Pilote\")\n",
    "employee1.introduce()\n",
    "        "
   ]
  }
 ],
 "metadata": {
  "kernelspec": {
   "display_name": "Python 3",
   "language": "python",
   "name": "python3"
  },
  "language_info": {
   "codemirror_mode": {
    "name": "ipython",
    "version": 3
   },
   "file_extension": ".py",
   "mimetype": "text/x-python",
   "name": "python",
   "nbconvert_exporter": "python",
   "pygments_lexer": "ipython3",
   "version": "3.13.0"
  }
 },
 "nbformat": 4,
 "nbformat_minor": 2
}
