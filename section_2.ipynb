{
 "cells": [
  {
   "cell_type": "markdown",
   "metadata": {},
   "source": [
    "# For Loops"
   ]
  },
  {
   "cell_type": "markdown",
   "metadata": {},
   "source": [
    "6. Multiplication Table: Write a Python program to print the multiplication table of a given number using a for loop.\n",
    "Example:\n",
    " ○ Input: 5\n",
    " ○ Output: 5, 10, 15, ..., 50"
   ]
  },
  {
   "cell_type": "code",
   "execution_count": 7,
   "metadata": {},
   "outputs": [
    {
     "name": "stdout",
     "output_type": "stream",
     "text": [
      "5\n",
      "10\n",
      "15\n",
      "20\n",
      "25\n",
      "30\n",
      "35\n",
      "40\n",
      "45\n",
      "50\n"
     ]
    }
   ],
   "source": [
    "for i in range(5,51,5):\n",
    "   print (i)"
   ]
  },
  {
   "cell_type": "code",
   "execution_count": 16,
   "metadata": {},
   "outputs": [
    {
     "name": "stdout",
     "output_type": "stream",
     "text": [
      "Input:5\n",
      "Output: \n",
      "5\n",
      "10\n",
      "15\n",
      "20\n",
      "25\n",
      "30\n",
      "35\n",
      "40\n",
      "45\n",
      "50\n"
     ]
    }
   ],
   "source": [
    "given_number = int(input(\"Enter any positive number: \"))\n",
    "print(f\"Input:{given_number}\")\n",
    "print(\"Output: \")\n",
    "\n",
    "for i in range(1 , 11):\n",
    "    print(f\"{given_number * i}\")"
   ]
  },
  {
   "cell_type": "markdown",
   "metadata": {},
   "source": [
    "7. Count Vowels: Write a program to count and display the number of\n",
    "vowels in a given string."
   ]
  },
  {
   "cell_type": "code",
   "execution_count": 10,
   "metadata": {},
   "outputs": [
    {
     "name": "stdout",
     "output_type": "stream",
     "text": [
      "The number of vowels in BHaichungf is 3.\n"
     ]
    }
   ],
   "source": [
    "str = input(\"word\")\n",
    "vowels = \"aeiouAEIOU\"\n",
    "count = 0\n",
    "for char in str:\n",
    "    if char in vowels:\n",
    "        count += 1\n",
    "print(f\"The number of vowels in {str} is {count}.\")\n"
   ]
  },
  {
   "cell_type": "markdown",
   "metadata": {},
   "source": [
    "8. Sum of Even Numbers Create a program to find the sum of all even\n",
    "numbers in a list using a for loop.\n",
    "Example:\n",
    "○ Input: [2, 5, 8, 3]\n",
    "○ Output: 10"
   ]
  },
  {
   "cell_type": "code",
   "execution_count": 62,
   "metadata": {},
   "outputs": [
    {
     "name": "stdout",
     "output_type": "stream",
     "text": [
      "Input: [2, 5, 8, 3]\n",
      "Output: 10\n"
     ]
    }
   ],
   "source": [
    "sum_even = 0\n",
    "numbers = input(\"Enter a list of number by giving spaces\") # Asking user to input number in string from.\n",
    "number_list = [int(num) for num in numbers.split()] # for loop iterates over each substring and int(num) convert the substring into  integers\n",
    "\n",
    "for even_num in number_list:\n",
    "    if even_num % 2 == 0:\n",
    "        sum_even += even_num\n",
    "\n",
    "print(f\"Input: {number_list}\\nOutput: {sum_even}\")"
   ]
  },
  {
   "cell_type": "markdown",
   "metadata": {},
   "source": [
    "9. Create a program to find the largest and smallest numbers in a\n",
    "list using a for loop.\n",
    "Example:\n",
    "○ Input = [10, 20, 5, 8], Output = Largest = 20, Smallest = 5"
   ]
  },
  {
   "cell_type": "code",
   "execution_count": null,
   "metadata": {},
   "outputs": [
    {
     "name": "stdout",
     "output_type": "stream",
     "text": [
      "input: [10, 20, 5, 8]\n",
      "output: largest = 20, smallest = 5\n"
     ]
    }
   ],
   "source": [
    "number = input(\"Enter a list of number by giving spaces\")\n",
    "number_list = [int(num) for num in number.split()]\n",
    "print (f\"input: {number_list}\")\n",
    "\n",
    "largest = number_list[0]\n",
    "smallest = number_list[0]\n",
    "\n",
    "for num in number_list:\n",
    "    if num > largest:\n",
    "        largest = num\n",
    "    if num < smallest:\n",
    "        smallest = num\n",
    "print(f\"output: largest = {largest}, smallest = {smallest}\")"
   ]
  },
  {
   "cell_type": "markdown",
   "metadata": {},
   "source": [
    "10. Write a program to calculate the sum of digits of a given\n",
    "number using a for loop.\n",
    "Example: Input = 1234, Output = 10"
   ]
  },
  {
   "cell_type": "code",
   "execution_count": 2,
   "metadata": {},
   "outputs": [
    {
     "name": "stdout",
     "output_type": "stream",
     "text": [
      "input: 1234\n",
      "output: 10\n"
     ]
    }
   ],
   "source": [
    "digits = int(input(\"enter any postive numbers:\"))\n",
    "print(f\"input: {digits}\")\n",
    "sum = 0\n",
    "\n",
    "for dig in str(digits):\n",
    "    sum += int(dig)\n",
    "print(f\"output: {sum}\")\n"
   ]
  },
  {
   "cell_type": "markdown",
   "metadata": {},
   "source": [
    "11. Write a program to reverse a given string using a for loop.\n",
    "Example: Input = \"Python\", Output = \"nohtyP\""
   ]
  },
  {
   "cell_type": "code",
   "execution_count": 3,
   "metadata": {},
   "outputs": [
    {
     "name": "stdout",
     "output_type": "stream",
     "text": [
      "Input: bhaichung\n",
      "Output: gnuhciahb\n"
     ]
    }
   ],
   "source": [
    "strings = input(\"Input any string of your choice: \")\n",
    "reversed_String = \"\"\n",
    "print(f\"Input: {strings}\")\n",
    "\n",
    "for char in strings:\n",
    "   reversed_String =  char +  reversed_String\n",
    "print(f\"Output: {reversed_String}\")"
   ]
  }
 ],
 "metadata": {
  "kernelspec": {
   "display_name": "Python 3",
   "language": "python",
   "name": "python3"
  },
  "language_info": {
   "codemirror_mode": {
    "name": "ipython",
    "version": 3
   },
   "file_extension": ".py",
   "mimetype": "text/x-python",
   "name": "python",
   "nbconvert_exporter": "python",
   "pygments_lexer": "ipython3",
   "version": "3.13.0"
  }
 },
 "nbformat": 4,
 "nbformat_minor": 2
}
