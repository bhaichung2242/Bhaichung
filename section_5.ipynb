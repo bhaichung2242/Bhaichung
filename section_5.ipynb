{
 "cells": [
  {
   "cell_type": "markdown",
   "metadata": {},
   "source": [
    "# File Handling\n"
   ]
  },
  {
   "cell_type": "markdown",
   "metadata": {},
   "source": [
    "1. File Creation and Writing: Write a Python script to:\n",
    "○ Create a file named data.txt.\n",
    "○ Write the numbers from 1 to 10 (each on a new line) to the\n",
    "file.\n",
    "○ Read the file and print its contents.\n"
   ]
  },
  {
   "cell_type": "code",
   "execution_count": 1,
   "metadata": {},
   "outputs": [
    {
     "name": "stdout",
     "output_type": "stream",
     "text": [
      "1\n",
      "2\n",
      "3\n",
      "4\n",
      "5\n",
      "6\n",
      "7\n",
      "8\n",
      "9\n",
      "10\n",
      "\n"
     ]
    }
   ],
   "source": [
    "with open(\"data.txt\" , 'w') as file:\n",
    "    for numbers in range(1 , 11):\n",
    "        file.write(f\"{numbers}\\n\")\n",
    "\n",
    "\n",
    "with open(\"data.txt\" , \"r\") as file:\n",
    "    contents = file.read()\n",
    "    print(contents)"
   ]
  },
  {
   "cell_type": "markdown",
   "metadata": {},
   "source": [
    "\n",
    "2. Word Count in File: Write a program that reads a file named\n",
    "sample.txt, counts the number of words in it, and prints the\n",
    "result."
   ]
  },
  {
   "cell_type": "code",
   "execution_count": 2,
   "metadata": {},
   "outputs": [
    {
     "name": "stdout",
     "output_type": "stream",
     "text": [
      "Error:The File Sample.txt was not found\n"
     ]
    }
   ],
   "source": [
    "try:\n",
    "    with open(\"sample.txt\" , \"r\") as file:\n",
    "        contents = file.read()\n",
    "        words = contents.split()\n",
    "        word_count = len(words)\n",
    "        print(f\"Number of word in file is: {word_count}\")\n",
    "except FileNotFoundError:\n",
    "    print(\"Error:The File Sample.txt was not found\") "
   ]
  }
 ],
 "metadata": {
  "kernelspec": {
   "display_name": "Python 3",
   "language": "python",
   "name": "python3"
  },
  "language_info": {
   "codemirror_mode": {
    "name": "ipython",
    "version": 3
   },
   "file_extension": ".py",
   "mimetype": "text/x-python",
   "name": "python",
   "nbconvert_exporter": "python",
   "pygments_lexer": "ipython3",
   "version": "3.13.0"
  }
 },
 "nbformat": 4,
 "nbformat_minor": 2
}
