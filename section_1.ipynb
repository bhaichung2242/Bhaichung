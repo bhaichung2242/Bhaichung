{
 "cells": [
  {
   "cell_type": "markdown",
   "metadata": {},
   "source": [
    "# Conditional Statement"
   ]
  },
  {
   "cell_type": "markdown",
   "metadata": {},
   "source": [
    "#### 1. Write a program that asks the user to enter a number and checks whether the number is even or odd."
   ]
  },
  {
   "cell_type": "code",
   "execution_count": 18,
   "metadata": {},
   "outputs": [
    {
     "name": "stdout",
     "output_type": "stream",
     "text": [
      "1 is an odd number.\n"
     ]
    }
   ],
   "source": [
    "num = int(input(\"enter a number:\"))\n",
    "if num % 2 == 0:\n",
    "   print(f\"{num} is an even number.\")\n",
    "\n",
    "else:\n",
    "   print(f\"{num} is an odd number.\")"
   ]
  },
  {
   "cell_type": "markdown",
   "metadata": {},
   "source": [
    "#### 2. Write a program that asks the user to enter a number and checks whether it is positive, negative, or zero."
   ]
  },
  {
   "cell_type": "code",
   "execution_count": 21,
   "metadata": {},
   "outputs": [
    {
     "name": "stdout",
     "output_type": "stream",
     "text": [
      "-1 is negative.\n"
     ]
    }
   ],
   "source": [
    "num = int(input(\"enter a number:\"))\n",
    "if num > 0:\n",
    "    print(f\"{num} is a positive.\")\n",
    "elif num < 0:\n",
    "    print(f\"{num} is negative.\")\n",
    "else:\n",
    "    print(f\"{num} is a zero.\")\n"
   ]
  },
  {
   "cell_type": "markdown",
   "metadata": {},
   "source": [
    "#### 3. Write a program that asks the user to enter their age and checks if they are eligible to vote (18 years or older)."
   ]
  },
  {
   "cell_type": "code",
   "execution_count": 13,
   "metadata": {},
   "outputs": [
    {
     "name": "stdout",
     "output_type": "stream",
     "text": [
      "1 is not eligible to vote.\n"
     ]
    }
   ],
   "source": [
    "num = int(input(\"enter a number:\"))\n",
    "if num >= 18:\n",
    "    print(f\"{num} is egligible to vote.\")\n",
    "else:\n",
    "    print(f\"{num} is not eligible to vote.\")"
   ]
  },
  {
   "cell_type": "markdown",
   "metadata": {},
   "source": [
    "#### 4. Write a program that takes the lengths of three sides of a triangle as input and determines if the triangle is:\n",
    "#### ○ Equilateral (all sides are equal)\n",
    "#### ○ Isosceles (two sides are equal)\n",
    "#### ○ Scalene (all sides are different)"
   ]
  },
  {
   "cell_type": "code",
   "execution_count": 14,
   "metadata": {},
   "outputs": [
    {
     "name": "stdout",
     "output_type": "stream",
     "text": [
      "The triangle is Equilateral:\n"
     ]
    }
   ],
   "source": [
    "a = float(input(\"enter a first side:\"))\n",
    "b = float(input(\"enter a second side:\"))\n",
    "c = float(input(\"enter a third side:\"))\n",
    "if a == b == c:\n",
    "    print(\"The triangle is Equilateral:\")\n",
    "elif a == b or b == c or a == c:\n",
    "    print(\"The triangle is Isosceles:\")\n",
    "else:\n",
    "    print(\"The triangle is Scalene:\")"
   ]
  },
  {
   "cell_type": "markdown",
   "metadata": {},
   "source": [
    "#### 5. Write a program that asks the user to enter a password and checks if it matches a predefined password (e.g., \"Python123\")."
   ]
  },
  {
   "cell_type": "code",
   "execution_count": 15,
   "metadata": {},
   "outputs": [
    {
     "name": "stdout",
     "output_type": "stream",
     "text": [
      "Password is incorrect:\n"
     ]
    }
   ],
   "source": [
    "predefined_password = \"Python123\"\n",
    "user_password = input(\"enter a password:\")\n",
    "if predefined_password == user_password:\n",
    "    print(\"Password is correct:\")\n",
    "\n",
    "else:\n",
    "    print(\"Password is incorrect:\")"
   ]
  }
 ],
 "metadata": {
  "kernelspec": {
   "display_name": "Python 3",
   "language": "python",
   "name": "python3"
  },
  "language_info": {
   "codemirror_mode": {
    "name": "ipython",
    "version": 3
   },
   "file_extension": ".py",
   "mimetype": "text/x-python",
   "name": "python",
   "nbconvert_exporter": "python",
   "pygments_lexer": "ipython3",
   "version": "3.13.0"
  }
 },
 "nbformat": 4,
 "nbformat_minor": 2
}
