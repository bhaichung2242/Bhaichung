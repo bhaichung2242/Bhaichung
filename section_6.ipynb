{
 "cells": [
  {
   "cell_type": "markdown",
   "metadata": {},
   "source": [
    "# Error Handling"
   ]
  },
  {
   "cell_type": "markdown",
   "metadata": {},
   "source": [
    "##### 1. Division with Error Handling: Write a program that takes two numbers as input and divides the first number by the second.\n",
    "##### ○ Use try and except to handle the division by zero error.\n"
   ]
  },
  {
   "cell_type": "code",
   "execution_count": 4,
   "metadata": {},
   "outputs": [
    {
     "name": "stdout",
     "output_type": "stream",
     "text": [
      "RunTime Error: division by zero\n"
     ]
    }
   ],
   "source": [
    "try:\n",
    "    num1 = int(input(\"Enter the first number: \"))\n",
    "    num2 = int(input(\"Enter the second number: \"))\n",
    "\n",
    "    result = num1 / num2\n",
    "    print(f\"{result}\")\n",
    "\n",
    "except ZeroDivisionError as e:\n",
    "    print(f\"RunTime Error: {e}\")"
   ]
  },
  {
   "cell_type": "markdown",
   "metadata": {},
   "source": [
    "\n",
    "#####  2. Integer Input Validation: Create a program that asks the user to input an integer.\n",
    "#####  ○ Use try, except, and else to handle invalid input.\n",
    "##### Example:\n",
    "##### ○ Input: abc\n",
    "##### ○ Output: \"Invalid input, please enter an integer.\"\n"
   ]
  },
  {
   "cell_type": "code",
   "execution_count": 3,
   "metadata": {},
   "outputs": [
    {
     "name": "stdout",
     "output_type": "stream",
     "text": [
      "Invalid input, please enter an integer.\n"
     ]
    }
   ],
   "source": [
    "try:\n",
    "    # Ask the user for input\n",
    "    user_input = input(\"Please enter an integer: \")\n",
    "    user_input = int(user_input)  # Try to convert the input to an integer\n",
    "except ValueError:\n",
    "    # Handle invalid input\n",
    "    print(\"Invalid input, please enter an integer.\")\n",
    "else:\n",
    "    # If input is valid, display the integer\n",
    "    print(f\"You entered the integer: {user_input}\")\n"
   ]
  },
  {
   "cell_type": "markdown",
   "metadata": {},
   "source": [
    "##### 3. File Not Found Error Handling: Write a script that:\n",
    "##### ○ Opens a file named unknown.txt.\n",
    "##### ○ Handles the FileNotFoundError gracefully and prints an\n",
    "##### appropriate message."
   ]
  },
  {
   "cell_type": "code",
   "execution_count": 1,
   "metadata": {},
   "outputs": [
    {
     "name": "stdout",
     "output_type": "stream",
     "text": [
      "Error: The file 'unknown.txt' was not found.\n"
     ]
    }
   ],
   "source": [
    "try:\n",
    "    with open(\"unknown.txt\" , \"r\") as file:\n",
    "        contents = file.read()\n",
    "        print(contents)\n",
    "    \n",
    "\n",
    "except FileNotFoundError:\n",
    "    print(\"Error: The file 'unknown.txt' was not found.\")"
   ]
  }
 ],
 "metadata": {
  "kernelspec": {
   "display_name": "Python 3",
   "language": "python",
   "name": "python3"
  },
  "language_info": {
   "codemirror_mode": {
    "name": "ipython",
    "version": 3
   },
   "file_extension": ".py",
   "mimetype": "text/x-python",
   "name": "python",
   "nbconvert_exporter": "python",
   "pygments_lexer": "ipython3",
   "version": "3.13.0"
  }
 },
 "nbformat": 4,
 "nbformat_minor": 2
}
